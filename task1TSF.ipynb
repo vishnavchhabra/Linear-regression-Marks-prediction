{
  "nbformat": 4,
  "nbformat_minor": 0,
  "metadata": {
    "colab": {
      "name": "task1TSF.ipynb",
      "provenance": [],
      "collapsed_sections": [],
      "authorship_tag": "ABX9TyMuO32+T8tDNr9ctthep0l8",
      "include_colab_link": true
    },
    "kernelspec": {
      "name": "python3",
      "display_name": "Python 3"
    },
    "accelerator": "GPU"
  },
  "cells": [
    {
      "cell_type": "markdown",
      "metadata": {
        "id": "view-in-github",
        "colab_type": "text"
      },
      "source": [
        "<a href=\"https://colab.research.google.com/github/vishnavchhabra/Linear-regression-Marks-prediction/blob/main/task1TSF.ipynb\" target=\"_parent\"><img src=\"https://colab.research.google.com/assets/colab-badge.svg\" alt=\"Open In Colab\"/></a>"
      ]
    },
    {
      "cell_type": "markdown",
      "metadata": {
        "id": "ixFKN4qM0iFu"
      },
      "source": [
        "MADE BY VISHNAV CHHABRA "
      ]
    },
    {
      "cell_type": "markdown",
      "metadata": {
        "id": "7Gg9CAPN0vN4"
      },
      "source": [
        "In this project we will predict marks of the student based on the number of hours of their study using Linear Regression."
      ]
    },
    {
      "cell_type": "markdown",
      "metadata": {
        "id": "5IHbLUrP1ipI"
      },
      "source": [
        "1. IMPORTING LIBRARIES \n"
      ]
    },
    {
      "cell_type": "code",
      "metadata": {
        "id": "XNlc0gZl0olx"
      },
      "source": [
        "#Importing all the required Libraries\n",
        "import pandas as pd\n",
        "import numpy as np \n",
        "import matplotlib.pyplot as plt\n",
        "%matplotlib inline"
      ],
      "execution_count": 1,
      "outputs": []
    },
    {
      "cell_type": "markdown",
      "metadata": {
        "id": "2_35CULb1gGk"
      },
      "source": [
        "2.IMPORTING DATA SET AND READING IT "
      ]
    },
    {
      "cell_type": "code",
      "metadata": {
        "id": "vczCG1nH1Qfx",
        "outputId": "e2a9d601-d632-48d5-a645-6ce96b8dbf2c",
        "colab": {
          "base_uri": "https://localhost:8080/",
          "height": 343
        }
      },
      "source": [
        "#importing data from url \n",
        "url = \"http://bit.ly/w-data\"\n",
        "data= pd.read_csv(url)\n",
        "#data has been imported \n",
        "#Seeing the data in tabular form \n",
        "data.head(10)"
      ],
      "execution_count": 38,
      "outputs": [
        {
          "output_type": "execute_result",
          "data": {
            "text/html": [
              "<div>\n",
              "<style scoped>\n",
              "    .dataframe tbody tr th:only-of-type {\n",
              "        vertical-align: middle;\n",
              "    }\n",
              "\n",
              "    .dataframe tbody tr th {\n",
              "        vertical-align: top;\n",
              "    }\n",
              "\n",
              "    .dataframe thead th {\n",
              "        text-align: right;\n",
              "    }\n",
              "</style>\n",
              "<table border=\"1\" class=\"dataframe\">\n",
              "  <thead>\n",
              "    <tr style=\"text-align: right;\">\n",
              "      <th></th>\n",
              "      <th>Hours</th>\n",
              "      <th>Scores</th>\n",
              "    </tr>\n",
              "  </thead>\n",
              "  <tbody>\n",
              "    <tr>\n",
              "      <th>0</th>\n",
              "      <td>2.5</td>\n",
              "      <td>21</td>\n",
              "    </tr>\n",
              "    <tr>\n",
              "      <th>1</th>\n",
              "      <td>5.1</td>\n",
              "      <td>47</td>\n",
              "    </tr>\n",
              "    <tr>\n",
              "      <th>2</th>\n",
              "      <td>3.2</td>\n",
              "      <td>27</td>\n",
              "    </tr>\n",
              "    <tr>\n",
              "      <th>3</th>\n",
              "      <td>8.5</td>\n",
              "      <td>75</td>\n",
              "    </tr>\n",
              "    <tr>\n",
              "      <th>4</th>\n",
              "      <td>3.5</td>\n",
              "      <td>30</td>\n",
              "    </tr>\n",
              "    <tr>\n",
              "      <th>5</th>\n",
              "      <td>1.5</td>\n",
              "      <td>20</td>\n",
              "    </tr>\n",
              "    <tr>\n",
              "      <th>6</th>\n",
              "      <td>9.2</td>\n",
              "      <td>88</td>\n",
              "    </tr>\n",
              "    <tr>\n",
              "      <th>7</th>\n",
              "      <td>5.5</td>\n",
              "      <td>60</td>\n",
              "    </tr>\n",
              "    <tr>\n",
              "      <th>8</th>\n",
              "      <td>8.3</td>\n",
              "      <td>81</td>\n",
              "    </tr>\n",
              "    <tr>\n",
              "      <th>9</th>\n",
              "      <td>2.7</td>\n",
              "      <td>25</td>\n",
              "    </tr>\n",
              "  </tbody>\n",
              "</table>\n",
              "</div>"
            ],
            "text/plain": [
              "   Hours  Scores\n",
              "0    2.5      21\n",
              "1    5.1      47\n",
              "2    3.2      27\n",
              "3    8.5      75\n",
              "4    3.5      30\n",
              "5    1.5      20\n",
              "6    9.2      88\n",
              "7    5.5      60\n",
              "8    8.3      81\n",
              "9    2.7      25"
            ]
          },
          "metadata": {
            "tags": []
          },
          "execution_count": 38
        }
      ]
    },
    {
      "cell_type": "markdown",
      "metadata": {
        "id": "Vb56PGQ42XVl"
      },
      "source": [
        "DATA IMPORTED SUCESSFULLY"
      ]
    },
    {
      "cell_type": "markdown",
      "metadata": {
        "id": "CM6R2oZ22p0Z"
      },
      "source": [
        "3. DATA VISUALIZATION\n",
        "Now we will visualize data in a graphical way so that we can derive relationship between the independent and dependent variables. "
      ]
    },
    {
      "cell_type": "code",
      "metadata": {
        "id": "Y49vUxC52RjP",
        "outputId": "78434e53-c3ec-44f5-d719-2d83b144f5ed",
        "colab": {
          "base_uri": "https://localhost:8080/",
          "height": 295
        }
      },
      "source": [
        "#plotting a 2D graph \n",
        "data.plot(x='Hours', y='Scores', style='o')\n",
        "plt.title('Hours vs Scores')\n",
        "plt.xlabel('Hours studied')\n",
        "plt.ylabel('Scored')\n",
        "plt.show()"
      ],
      "execution_count": 39,
      "outputs": [
        {
          "output_type": "display_data",
          "data": {
            "image/png": "[encoded data removed]",
            "text/plain": [
              "<Figure size 432x288 with 1 Axes>"
            ]
          },
          "metadata": {
            "tags": [],
            "needs_background": "light"
          }
        }
      ]
    },
    {
      "cell_type": "markdown",
      "metadata": {
        "id": "LLYtne_9tQxs"
      },
      "source": [
        "As you can clearly see there is a linear relationship between numbers of hours studied and marks scored\n",
        "So we will now train a linear regression model\n"
      ]
    },
    {
      "cell_type": "markdown",
      "metadata": {
        "id": "Z5_TMrH_tjRA"
      },
      "source": [
        "4.Splitting Data"
      ]
    },
    {
      "cell_type": "code",
      "metadata": {
        "id": "YXdZpkoMsXwI"
      },
      "source": [
        "#dividing data now into Input and output\n",
        "X = data.iloc[:, :-1].values  \n",
        "y = data.iloc[:, 1].values  "
      ],
      "execution_count": 40,
      "outputs": []
    },
    {
      "cell_type": "markdown",
      "metadata": {
        "id": "8dgd_AKZu42g"
      },
      "source": [
        "Since we have divided the data into input and output we will now split the data into train set and test set "
      ]
    },
    {
      "cell_type": "code",
      "metadata": {
        "id": "AVf847Rgu2Dx"
      },
      "source": [
        "from sklearn.model_selection import train_test_split\n",
        "x_train, x_test, y_train, y_test = train_test_split(x, y , \n",
        "                                                    test_size=0.2 , random_state=0)\n"
      ],
      "execution_count": 41,
      "outputs": []
    },
    {
      "cell_type": "markdown",
      "metadata": {
        "id": "BkxJGv2awGRX"
      },
      "source": [
        "5. Training the algorithm"
      ]
    },
    {
      "cell_type": "markdown",
      "metadata": {
        "id": "8TkY6O6OwMfx"
      },
      "source": [
        "Since we have split the dataset we will now train the data set so that we can make our predictions."
      ]
    },
    {
      "cell_type": "code",
      "metadata": {
        "id": "oc-l4QLSwYjU",
        "outputId": "67438f3d-b5e2-419b-90d9-54a257e77f4a",
        "colab": {
          "base_uri": "https://localhost:8080/",
          "height": 34
        }
      },
      "source": [
        "from sklearn.linear_model import LinearRegression \n",
        "regressor = LinearRegression()  \n",
        "regressor.fit(x_train, y_train) \n",
        "print('Training Complete ')"
      ],
      "execution_count": 43,
      "outputs": [
        {
          "output_type": "stream",
          "text": [
            "Training Complete \n"
          ],
          "name": "stdout"
        }
      ]
    },
    {
      "cell_type": "markdown",
      "metadata": {
        "id": "kfvfmDspxfoI"
      },
      "source": [
        "Training complete "
      ]
    },
    {
      "cell_type": "code",
      "metadata": {
        "id": "80I342wJxcE1",
        "outputId": "7db8a757-a52f-4cac-ad1f-5f5c7f7aca0b",
        "colab": {
          "base_uri": "https://localhost:8080/",
          "height": 265
        }
      },
      "source": [
        "#plotting the regression line\n",
        "line = regressor.coef_*x+regressor.intercept_\n",
        "\n",
        "# Plotting for the test data\n",
        "plt.scatter(x, y)\n",
        "plt.plot(x, line);\n",
        "plt.show()"
      ],
      "execution_count": 44,
      "outputs": [
        {
          "output_type": "display_data",
          "data": {
            "image/png": "[encoded data removed]",
            "text/plain": [
              "<Figure size 432x288 with 1 Axes>"
            ]
          },
          "metadata": {
            "tags": [],
            "needs_background": "light"
          }
        }
      ]
    },
    {
      "cell_type": "markdown",
      "metadata": {
        "id": "U6bV5LiKzNTy"
      },
      "source": [
        "6. Making Prdeications\n",
        "\n",
        "we will now make predictions on the basis of the trained data\n"
      ]
    },
    {
      "cell_type": "code",
      "metadata": {
        "id": "HuZC-607yctD",
        "outputId": "4f3d0229-a061-480a-ce1f-5097e3e9fa17",
        "colab": {
          "base_uri": "https://localhost:8080/",
          "height": 101
        }
      },
      "source": [
        "print(x_test)\n",
        "y_pred = regressor.predict(x_test)"
      ],
      "execution_count": 45,
      "outputs": [
        {
          "output_type": "stream",
          "text": [
            "[[1.5]\n",
            " [3.2]\n",
            " [7.4]\n",
            " [2.5]\n",
            " [5.9]]\n"
          ],
          "name": "stdout"
        }
      ]
    },
    {
      "cell_type": "markdown",
      "metadata": {
        "id": "oBB6JCos0Uiu"
      },
      "source": [
        "comparing actual vs predicted values "
      ]
    },
    {
      "cell_type": "code",
      "metadata": {
        "id": "ggREctGW0OP_",
        "outputId": "919995b2-94dc-4a69-c524-b6c6b44ee4b7",
        "colab": {
          "base_uri": "https://localhost:8080/",
          "height": 195
        }
      },
      "source": [
        "# Comparing Actual vs Predicted\n",
        "df = pd.DataFrame({'Actual': y_test, 'Predicted': y_pred})  \n",
        "df \n"
      ],
      "execution_count": 46,
      "outputs": [
        {
          "output_type": "execute_result",
          "data": {
            "text/html": [
              "<div>\n",
              "<style scoped>\n",
              "    .dataframe tbody tr th:only-of-type {\n",
              "        vertical-align: middle;\n",
              "    }\n",
              "\n",
              "    .dataframe tbody tr th {\n",
              "        vertical-align: top;\n",
              "    }\n",
              "\n",
              "    .dataframe thead th {\n",
              "        text-align: right;\n",
              "    }\n",
              "</style>\n",
              "<table border=\"1\" class=\"dataframe\">\n",
              "  <thead>\n",
              "    <tr style=\"text-align: right;\">\n",
              "      <th></th>\n",
              "      <th>Actual</th>\n",
              "      <th>Predicted</th>\n",
              "    </tr>\n",
              "  </thead>\n",
              "  <tbody>\n",
              "    <tr>\n",
              "      <th>0</th>\n",
              "      <td>20</td>\n",
              "      <td>16.884145</td>\n",
              "    </tr>\n",
              "    <tr>\n",
              "      <th>1</th>\n",
              "      <td>27</td>\n",
              "      <td>33.732261</td>\n",
              "    </tr>\n",
              "    <tr>\n",
              "      <th>2</th>\n",
              "      <td>69</td>\n",
              "      <td>75.357018</td>\n",
              "    </tr>\n",
              "    <tr>\n",
              "      <th>3</th>\n",
              "      <td>30</td>\n",
              "      <td>26.794801</td>\n",
              "    </tr>\n",
              "    <tr>\n",
              "      <th>4</th>\n",
              "      <td>62</td>\n",
              "      <td>60.491033</td>\n",
              "    </tr>\n",
              "  </tbody>\n",
              "</table>\n",
              "</div>"
            ],
            "text/plain": [
              "   Actual  Predicted\n",
              "0      20  16.884145\n",
              "1      27  33.732261\n",
              "2      69  75.357018\n",
              "3      30  26.794801\n",
              "4      62  60.491033"
            ]
          },
          "metadata": {
            "tags": []
          },
          "execution_count": 46
        }
      ]
    },
    {
      "cell_type": "code",
      "metadata": {
        "id": "LyQnY4KX0lpG",
        "outputId": "1f989381-fcf0-4cb7-e1c7-734ef196adc1",
        "colab": {
          "base_uri": "https://localhost:8080/",
          "height": 50
        }
      },
      "source": [
        "hours = [[9.25]]\n",
        "own_prediction = regressor.predict(hours)\n",
        "print(\"No of Hours = {}\".format(hours))\n",
        "print(\"Predicted Score = {}\".format(own_prediction[0]))"
      ],
      "execution_count": 50,
      "outputs": [
        {
          "output_type": "stream",
          "text": [
            "No of Hours = [[9.25]]\n",
            "Predicted Score = 93.69173248737539\n"
          ],
          "name": "stdout"
        }
      ]
    },
    {
      "cell_type": "markdown",
      "metadata": {
        "id": "FFs9bsjnmC-N"
      },
      "source": [
        "8. Evaluation the model \n",
        "The most important part of building a machine learning model is to check it's accuracy. We will evaluate this model using the MEAN ABSOULUTE ERROR  "
      ]
    },
    {
      "cell_type": "code",
      "metadata": {
        "id": "Wn8QlSkJ4oNh",
        "outputId": "c3976088-af3b-477d-b326-264c3edd0a83",
        "colab": {
          "base_uri": "https://localhost:8080/",
          "height": 34
        }
      },
      "source": [
        "from sklearn import metrics\n",
        "print('Mean Absolute Error:', \n",
        "      metrics.mean_absolute_error(y_test, y_pred)) "
      ],
      "execution_count": 57,
      "outputs": [
        {
          "output_type": "stream",
          "text": [
            "Mean Absolute Error: 4.183859899002982\n"
          ],
          "name": "stdout"
        }
      ]
    },
    {
      "cell_type": "markdown",
      "metadata": {
        "id": "NvVIA-aBok-b"
      },
      "source": [
        "We will also evaluate from Root mean squared method of evaluation \n"
      ]
    },
    {
      "cell_type": "code",
      "metadata": {
        "id": "xMbRlVhUmiJ9",
        "outputId": "643f3d7f-71de-4e80-df1e-c334c9e27a78",
        "colab": {
          "base_uri": "https://localhost:8080/",
          "height": 34
        }
      },
      "source": [
        "from sklearn.metrics import mean_squared_error\n",
        "\n",
        "from math import sqrt\n",
        "\n",
        "rmse = sqrt(mean_squared_error(y_test, y_pred))\n",
        "\n",
        "print(rmse)"
      ],
      "execution_count": 58,
      "outputs": [
        {
          "output_type": "stream",
          "text": [
            "4.647447612100373\n"
          ],
          "name": "stdout"
        }
      ]
    },
    {
      "cell_type": "markdown",
      "metadata": {
        "id": "RLOx4MrrotsQ"
      },
      "source": [
        "SUCESSFULLY THE MODEL HAS BEEN TRAINED "
      ]
    },
    {
      "cell_type": "code",
      "metadata": {
        "id": "fv1GQNPhmxrg"
      },
      "source": [
        ""
      ],
      "execution_count": null,
      "outputs": []
    }
  ]
}